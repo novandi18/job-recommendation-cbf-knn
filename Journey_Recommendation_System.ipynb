{
  "nbformat": 4,
  "nbformat_minor": 0,
  "metadata": {
    "colab": {
      "provenance": [],
      "authorship_tag": "ABX9TyNRAyvusQfLjno6uWMSx7v+",
      "include_colab_link": true
    },
    "kernelspec": {
      "name": "python3",
      "display_name": "Python 3"
    },
    "language_info": {
      "name": "python"
    }
  },
  "cells": [
    {
      "cell_type": "markdown",
      "metadata": {
        "id": "view-in-github",
        "colab_type": "text"
      },
      "source": [
        "<a href=\"https://colab.research.google.com/github/novandi18/job-recommendation-cbf-knn/blob/master/Journey_Recommendation_System.ipynb\" target=\"_parent\"><img src=\"https://colab.research.google.com/assets/colab-badge.svg\" alt=\"Open In Colab\"/></a>"
      ]
    },
    {
      "cell_type": "code",
      "source": [
        "import pandas as pd\n",
        "from datasets import load_dataset\n",
        "import ast\n",
        "\n",
        "ds = pd.read_csv(\"hf://datasets/lukebarousse/data_jobs/data_jobs.csv\")\n",
        "\n",
        "ds.dropna(subset=['job_skills'], inplace=True)\n",
        "ds.drop(columns=['salary_rate', 'salary_year_avg', 'salary_hour_avg', 'job_no_degree_mention', 'job_health_insurance'], inplace=True)\n",
        "df = ds.copy()\n",
        "\n",
        "df['skills_one'] = df['job_skills'].apply(lambda x: ast.literal_eval(x)[0])\n",
        "df['skills_two'] = df['job_skills'].apply(lambda x: ast.literal_eval(x)[1] if len(ast.literal_eval(x)) > 1 else None)\n",
        "\n",
        "df['skills'] = df[['skills_one', 'skills_two']].apply(\n",
        "    lambda row: ' '.join(row.dropna()),\n",
        "    axis=1\n",
        ")\n",
        "\n",
        "df = df[df['skills'].astype(bool)].copy()\n",
        "df.head()"
      ],
      "metadata": {
        "colab": {
          "base_uri": "https://localhost:8080/",
          "height": 487
        },
        "id": "JQvQdnFqiKAF",
        "outputId": "a977c07a-3107-4c49-def6-10b8bc642373"
      },
      "execution_count": 501,
      "outputs": [
        {
          "output_type": "execute_result",
          "data": {
            "text/plain": [
              "  job_title_short                                          job_title  \\\n",
              "1    Data Analyst                                       Data Analyst   \n",
              "2   Data Engineer  Data Engineer/Scientist/Analyst, Mid or Senior...   \n",
              "3   Data Engineer  LEAD ENGINEER - PRINCIPAL ANALYST - PRINCIPAL ...   \n",
              "4   Data Engineer                             Data Engineer- Sr Jobs   \n",
              "5   Data Engineer                                  GCP Data Engineer   \n",
              "\n",
              "                   job_location             job_via         job_schedule_type  \\\n",
              "1  Guadalajara, Jalisco, Mexico    via BeBee México                 Full-time   \n",
              "2               Berlin, Germany        via LinkedIn                 Full-time   \n",
              "3               San Antonio, TX   via Diversity.com                 Full-time   \n",
              "4                Washington, DC  via Clearance Jobs                 Full-time   \n",
              "5                      Anywhere    via ZipRecruiter  Contractor and Temp work   \n",
              "\n",
              "   job_work_from_home       search_location      job_posted_date  \\\n",
              "1               False                Mexico  2023-01-14 13:18:07   \n",
              "2               False               Germany  2023-10-10 13:14:55   \n",
              "3               False  Texas, United States  2023-07-04 13:01:41   \n",
              "4               False                 Sudan  2023-08-07 14:29:36   \n",
              "5                True               Georgia  2023-11-07 14:01:59   \n",
              "\n",
              "     job_country                  company_name  \\\n",
              "1         Mexico    Hewlett Packard Enterprise   \n",
              "2        Germany      ALPHA Augmented Services   \n",
              "3  United States  Southwest Research Institute   \n",
              "4          Sudan               Kristina Daniel   \n",
              "5  United States               smart folks inc   \n",
              "\n",
              "                                          job_skills  \\\n",
              "1  ['r', 'python', 'sql', 'nosql', 'power bi', 't...   \n",
              "2  ['python', 'sql', 'c#', 'azure', 'airflow', 'd...   \n",
              "3  ['python', 'c++', 'java', 'matlab', 'aws', 'te...   \n",
              "4  ['bash', 'python', 'oracle', 'aws', 'ansible',...   \n",
              "5                           ['python', 'sql', 'gcp']   \n",
              "\n",
              "                                     job_type_skills skills_one skills_two  \\\n",
              "1  {'analyst_tools': ['power bi', 'tableau'], 'pr...          r     python   \n",
              "2  {'analyst_tools': ['dax'], 'cloud': ['azure'],...     python        sql   \n",
              "3  {'cloud': ['aws'], 'libraries': ['tensorflow',...     python        c++   \n",
              "4  {'cloud': ['oracle', 'aws'], 'other': ['ansibl...       bash     python   \n",
              "5  {'cloud': ['gcp'], 'programming': ['python', '...     python        sql   \n",
              "\n",
              "        skills  \n",
              "1     r python  \n",
              "2   python sql  \n",
              "3   python c++  \n",
              "4  bash python  \n",
              "5   python sql  "
            ],
            "text/html": [
              "\n",
              "  <div id=\"df-db187dda-a6c0-438f-9dbd-910bccfab58a\" class=\"colab-df-container\">\n",
              "    <div>\n",
              "<style scoped>\n",
              "    .dataframe tbody tr th:only-of-type {\n",
              "        vertical-align: middle;\n",
              "    }\n",
              "\n",
              "    .dataframe tbody tr th {\n",
              "        vertical-align: top;\n",
              "    }\n",
              "\n",
              "    .dataframe thead th {\n",
              "        text-align: right;\n",
              "    }\n",
              "</style>\n",
              "<table border=\"1\" class=\"dataframe\">\n",
              "  <thead>\n",
              "    <tr style=\"text-align: right;\">\n",
              "      <th></th>\n",
              "      <th>job_title_short</th>\n",
              "      <th>job_title</th>\n",
              "      <th>job_location</th>\n",
              "      <th>job_via</th>\n",
              "      <th>job_schedule_type</th>\n",
              "      <th>job_work_from_home</th>\n",
              "      <th>search_location</th>\n",
              "      <th>job_posted_date</th>\n",
              "      <th>job_country</th>\n",
              "      <th>company_name</th>\n",
              "      <th>job_skills</th>\n",
              "      <th>job_type_skills</th>\n",
              "      <th>skills_one</th>\n",
              "      <th>skills_two</th>\n",
              "      <th>skills</th>\n",
              "    </tr>\n",
              "  </thead>\n",
              "  <tbody>\n",
              "    <tr>\n",
              "      <th>1</th>\n",
              "      <td>Data Analyst</td>\n",
              "      <td>Data Analyst</td>\n",
              "      <td>Guadalajara, Jalisco, Mexico</td>\n",
              "      <td>via BeBee México</td>\n",
              "      <td>Full-time</td>\n",
              "      <td>False</td>\n",
              "      <td>Mexico</td>\n",
              "      <td>2023-01-14 13:18:07</td>\n",
              "      <td>Mexico</td>\n",
              "      <td>Hewlett Packard Enterprise</td>\n",
              "      <td>['r', 'python', 'sql', 'nosql', 'power bi', 't...</td>\n",
              "      <td>{'analyst_tools': ['power bi', 'tableau'], 'pr...</td>\n",
              "      <td>r</td>\n",
              "      <td>python</td>\n",
              "      <td>r python</td>\n",
              "    </tr>\n",
              "    <tr>\n",
              "      <th>2</th>\n",
              "      <td>Data Engineer</td>\n",
              "      <td>Data Engineer/Scientist/Analyst, Mid or Senior...</td>\n",
              "      <td>Berlin, Germany</td>\n",
              "      <td>via LinkedIn</td>\n",
              "      <td>Full-time</td>\n",
              "      <td>False</td>\n",
              "      <td>Germany</td>\n",
              "      <td>2023-10-10 13:14:55</td>\n",
              "      <td>Germany</td>\n",
              "      <td>ALPHA Augmented Services</td>\n",
              "      <td>['python', 'sql', 'c#', 'azure', 'airflow', 'd...</td>\n",
              "      <td>{'analyst_tools': ['dax'], 'cloud': ['azure'],...</td>\n",
              "      <td>python</td>\n",
              "      <td>sql</td>\n",
              "      <td>python sql</td>\n",
              "    </tr>\n",
              "    <tr>\n",
              "      <th>3</th>\n",
              "      <td>Data Engineer</td>\n",
              "      <td>LEAD ENGINEER - PRINCIPAL ANALYST - PRINCIPAL ...</td>\n",
              "      <td>San Antonio, TX</td>\n",
              "      <td>via Diversity.com</td>\n",
              "      <td>Full-time</td>\n",
              "      <td>False</td>\n",
              "      <td>Texas, United States</td>\n",
              "      <td>2023-07-04 13:01:41</td>\n",
              "      <td>United States</td>\n",
              "      <td>Southwest Research Institute</td>\n",
              "      <td>['python', 'c++', 'java', 'matlab', 'aws', 'te...</td>\n",
              "      <td>{'cloud': ['aws'], 'libraries': ['tensorflow',...</td>\n",
              "      <td>python</td>\n",
              "      <td>c++</td>\n",
              "      <td>python c++</td>\n",
              "    </tr>\n",
              "    <tr>\n",
              "      <th>4</th>\n",
              "      <td>Data Engineer</td>\n",
              "      <td>Data Engineer- Sr Jobs</td>\n",
              "      <td>Washington, DC</td>\n",
              "      <td>via Clearance Jobs</td>\n",
              "      <td>Full-time</td>\n",
              "      <td>False</td>\n",
              "      <td>Sudan</td>\n",
              "      <td>2023-08-07 14:29:36</td>\n",
              "      <td>Sudan</td>\n",
              "      <td>Kristina Daniel</td>\n",
              "      <td>['bash', 'python', 'oracle', 'aws', 'ansible',...</td>\n",
              "      <td>{'cloud': ['oracle', 'aws'], 'other': ['ansibl...</td>\n",
              "      <td>bash</td>\n",
              "      <td>python</td>\n",
              "      <td>bash python</td>\n",
              "    </tr>\n",
              "    <tr>\n",
              "      <th>5</th>\n",
              "      <td>Data Engineer</td>\n",
              "      <td>GCP Data Engineer</td>\n",
              "      <td>Anywhere</td>\n",
              "      <td>via ZipRecruiter</td>\n",
              "      <td>Contractor and Temp work</td>\n",
              "      <td>True</td>\n",
              "      <td>Georgia</td>\n",
              "      <td>2023-11-07 14:01:59</td>\n",
              "      <td>United States</td>\n",
              "      <td>smart folks inc</td>\n",
              "      <td>['python', 'sql', 'gcp']</td>\n",
              "      <td>{'cloud': ['gcp'], 'programming': ['python', '...</td>\n",
              "      <td>python</td>\n",
              "      <td>sql</td>\n",
              "      <td>python sql</td>\n",
              "    </tr>\n",
              "  </tbody>\n",
              "</table>\n",
              "</div>\n",
              "    <div class=\"colab-df-buttons\">\n",
              "\n",
              "  <div class=\"colab-df-container\">\n",
              "    <button class=\"colab-df-convert\" onclick=\"convertToInteractive('df-db187dda-a6c0-438f-9dbd-910bccfab58a')\"\n",
              "            title=\"Convert this dataframe to an interactive table.\"\n",
              "            style=\"display:none;\">\n",
              "\n",
              "  <svg xmlns=\"http://www.w3.org/2000/svg\" height=\"24px\" viewBox=\"0 -960 960 960\">\n",
              "    <path d=\"M120-120v-720h720v720H120Zm60-500h600v-160H180v160Zm220 220h160v-160H400v160Zm0 220h160v-160H400v160ZM180-400h160v-160H180v160Zm440 0h160v-160H620v160ZM180-180h160v-160H180v160Zm440 0h160v-160H620v160Z\"/>\n",
              "  </svg>\n",
              "    </button>\n",
              "\n",
              "  <style>\n",
              "    .colab-df-container {\n",
              "      display:flex;\n",
              "      gap: 12px;\n",
              "    }\n",
              "\n",
              "    .colab-df-convert {\n",
              "      background-color: #E8F0FE;\n",
              "      border: none;\n",
              "      border-radius: 50%;\n",
              "      cursor: pointer;\n",
              "      display: none;\n",
              "      fill: #1967D2;\n",
              "      height: 32px;\n",
              "      padding: 0 0 0 0;\n",
              "      width: 32px;\n",
              "    }\n",
              "\n",
              "    .colab-df-convert:hover {\n",
              "      background-color: #E2EBFA;\n",
              "      box-shadow: 0px 1px 2px rgba(60, 64, 67, 0.3), 0px 1px 3px 1px rgba(60, 64, 67, 0.15);\n",
              "      fill: #174EA6;\n",
              "    }\n",
              "\n",
              "    .colab-df-buttons div {\n",
              "      margin-bottom: 4px;\n",
              "    }\n",
              "\n",
              "    [theme=dark] .colab-df-convert {\n",
              "      background-color: #3B4455;\n",
              "      fill: #D2E3FC;\n",
              "    }\n",
              "\n",
              "    [theme=dark] .colab-df-convert:hover {\n",
              "      background-color: #434B5C;\n",
              "      box-shadow: 0px 1px 3px 1px rgba(0, 0, 0, 0.15);\n",
              "      filter: drop-shadow(0px 1px 2px rgba(0, 0, 0, 0.3));\n",
              "      fill: #FFFFFF;\n",
              "    }\n",
              "  </style>\n",
              "\n",
              "    <script>\n",
              "      const buttonEl =\n",
              "        document.querySelector('#df-db187dda-a6c0-438f-9dbd-910bccfab58a button.colab-df-convert');\n",
              "      buttonEl.style.display =\n",
              "        google.colab.kernel.accessAllowed ? 'block' : 'none';\n",
              "\n",
              "      async function convertToInteractive(key) {\n",
              "        const element = document.querySelector('#df-db187dda-a6c0-438f-9dbd-910bccfab58a');\n",
              "        const dataTable =\n",
              "          await google.colab.kernel.invokeFunction('convertToInteractive',\n",
              "                                                    [key], {});\n",
              "        if (!dataTable) return;\n",
              "\n",
              "        const docLinkHtml = 'Like what you see? Visit the ' +\n",
              "          '<a target=\"_blank\" href=https://colab.research.google.com/notebooks/data_table.ipynb>data table notebook</a>'\n",
              "          + ' to learn more about interactive tables.';\n",
              "        element.innerHTML = '';\n",
              "        dataTable['output_type'] = 'display_data';\n",
              "        await google.colab.output.renderOutput(dataTable, element);\n",
              "        const docLink = document.createElement('div');\n",
              "        docLink.innerHTML = docLinkHtml;\n",
              "        element.appendChild(docLink);\n",
              "      }\n",
              "    </script>\n",
              "  </div>\n",
              "\n",
              "\n",
              "<div id=\"df-9594e45a-4561-4988-980f-5412f447e6ea\">\n",
              "  <button class=\"colab-df-quickchart\" onclick=\"quickchart('df-9594e45a-4561-4988-980f-5412f447e6ea')\"\n",
              "            title=\"Suggest charts\"\n",
              "            style=\"display:none;\">\n",
              "\n",
              "<svg xmlns=\"http://www.w3.org/2000/svg\" height=\"24px\"viewBox=\"0 0 24 24\"\n",
              "     width=\"24px\">\n",
              "    <g>\n",
              "        <path d=\"M19 3H5c-1.1 0-2 .9-2 2v14c0 1.1.9 2 2 2h14c1.1 0 2-.9 2-2V5c0-1.1-.9-2-2-2zM9 17H7v-7h2v7zm4 0h-2V7h2v10zm4 0h-2v-4h2v4z\"/>\n",
              "    </g>\n",
              "</svg>\n",
              "  </button>\n",
              "\n",
              "<style>\n",
              "  .colab-df-quickchart {\n",
              "      --bg-color: #E8F0FE;\n",
              "      --fill-color: #1967D2;\n",
              "      --hover-bg-color: #E2EBFA;\n",
              "      --hover-fill-color: #174EA6;\n",
              "      --disabled-fill-color: #AAA;\n",
              "      --disabled-bg-color: #DDD;\n",
              "  }\n",
              "\n",
              "  [theme=dark] .colab-df-quickchart {\n",
              "      --bg-color: #3B4455;\n",
              "      --fill-color: #D2E3FC;\n",
              "      --hover-bg-color: #434B5C;\n",
              "      --hover-fill-color: #FFFFFF;\n",
              "      --disabled-bg-color: #3B4455;\n",
              "      --disabled-fill-color: #666;\n",
              "  }\n",
              "\n",
              "  .colab-df-quickchart {\n",
              "    background-color: var(--bg-color);\n",
              "    border: none;\n",
              "    border-radius: 50%;\n",
              "    cursor: pointer;\n",
              "    display: none;\n",
              "    fill: var(--fill-color);\n",
              "    height: 32px;\n",
              "    padding: 0;\n",
              "    width: 32px;\n",
              "  }\n",
              "\n",
              "  .colab-df-quickchart:hover {\n",
              "    background-color: var(--hover-bg-color);\n",
              "    box-shadow: 0 1px 2px rgba(60, 64, 67, 0.3), 0 1px 3px 1px rgba(60, 64, 67, 0.15);\n",
              "    fill: var(--button-hover-fill-color);\n",
              "  }\n",
              "\n",
              "  .colab-df-quickchart-complete:disabled,\n",
              "  .colab-df-quickchart-complete:disabled:hover {\n",
              "    background-color: var(--disabled-bg-color);\n",
              "    fill: var(--disabled-fill-color);\n",
              "    box-shadow: none;\n",
              "  }\n",
              "\n",
              "  .colab-df-spinner {\n",
              "    border: 2px solid var(--fill-color);\n",
              "    border-color: transparent;\n",
              "    border-bottom-color: var(--fill-color);\n",
              "    animation:\n",
              "      spin 1s steps(1) infinite;\n",
              "  }\n",
              "\n",
              "  @keyframes spin {\n",
              "    0% {\n",
              "      border-color: transparent;\n",
              "      border-bottom-color: var(--fill-color);\n",
              "      border-left-color: var(--fill-color);\n",
              "    }\n",
              "    20% {\n",
              "      border-color: transparent;\n",
              "      border-left-color: var(--fill-color);\n",
              "      border-top-color: var(--fill-color);\n",
              "    }\n",
              "    30% {\n",
              "      border-color: transparent;\n",
              "      border-left-color: var(--fill-color);\n",
              "      border-top-color: var(--fill-color);\n",
              "      border-right-color: var(--fill-color);\n",
              "    }\n",
              "    40% {\n",
              "      border-color: transparent;\n",
              "      border-right-color: var(--fill-color);\n",
              "      border-top-color: var(--fill-color);\n",
              "    }\n",
              "    60% {\n",
              "      border-color: transparent;\n",
              "      border-right-color: var(--fill-color);\n",
              "    }\n",
              "    80% {\n",
              "      border-color: transparent;\n",
              "      border-right-color: var(--fill-color);\n",
              "      border-bottom-color: var(--fill-color);\n",
              "    }\n",
              "    90% {\n",
              "      border-color: transparent;\n",
              "      border-bottom-color: var(--fill-color);\n",
              "    }\n",
              "  }\n",
              "</style>\n",
              "\n",
              "  <script>\n",
              "    async function quickchart(key) {\n",
              "      const quickchartButtonEl =\n",
              "        document.querySelector('#' + key + ' button');\n",
              "      quickchartButtonEl.disabled = true;  // To prevent multiple clicks.\n",
              "      quickchartButtonEl.classList.add('colab-df-spinner');\n",
              "      try {\n",
              "        const charts = await google.colab.kernel.invokeFunction(\n",
              "            'suggestCharts', [key], {});\n",
              "      } catch (error) {\n",
              "        console.error('Error during call to suggestCharts:', error);\n",
              "      }\n",
              "      quickchartButtonEl.classList.remove('colab-df-spinner');\n",
              "      quickchartButtonEl.classList.add('colab-df-quickchart-complete');\n",
              "    }\n",
              "    (() => {\n",
              "      let quickchartButtonEl =\n",
              "        document.querySelector('#df-9594e45a-4561-4988-980f-5412f447e6ea button');\n",
              "      quickchartButtonEl.style.display =\n",
              "        google.colab.kernel.accessAllowed ? 'block' : 'none';\n",
              "    })();\n",
              "  </script>\n",
              "</div>\n",
              "\n",
              "    </div>\n",
              "  </div>\n"
            ],
            "application/vnd.google.colaboratory.intrinsic+json": {
              "type": "dataframe",
              "variable_name": "df"
            }
          },
          "metadata": {},
          "execution_count": 501
        }
      ]
    },
    {
      "cell_type": "code",
      "source": [
        "from sklearn.feature_extraction.text import TfidfVectorizer\n",
        "from sklearn.metrics.pairwise import cosine_similarity\n",
        "\n",
        "tfidf = TfidfVectorizer(stop_words='english')\n",
        "tfidf_matrix = tfidf.fit_transform(df['skills'])\n",
        "\n",
        "feature_names = tfidf.get_feature_names_out()\n",
        "for i in range(5):\n",
        "    print(f\"TF-IDF for vocab '{feature_names[i]}': {tfidf_matrix[0, i]:.4f}\")"
      ],
      "metadata": {
        "id": "IHUzCt-a1tnO",
        "colab": {
          "base_uri": "https://localhost:8080/"
        },
        "outputId": "16026041-f090-4709-94c3-5a8c971e55a9"
      },
      "execution_count": 502,
      "outputs": [
        {
          "output_type": "stream",
          "name": "stdout",
          "text": [
            "TF-IDF for vocab 'access': 0.0000\n",
            "TF-IDF for vocab 'airflow': 0.0000\n",
            "TF-IDF for vocab 'airtable': 0.0000\n",
            "TF-IDF for vocab 'alteryx': 0.0000\n",
            "TF-IDF for vocab 'angular': 0.0000\n"
          ]
        }
      ]
    },
    {
      "cell_type": "code",
      "source": [
        "import pickle\n",
        "\n",
        "with open('model.pkl', 'wb') as file:\n",
        "    pickle.dump((tfidf, df), file)"
      ],
      "metadata": {
        "id": "8FBXXMcqi7i2"
      },
      "execution_count": 503,
      "outputs": []
    },
    {
      "cell_type": "code",
      "source": [
        "with open('model.pkl', 'rb') as file:\n",
        "    tfidf, df = pickle.load(file)"
      ],
      "metadata": {
        "id": "GDJkygpm9jQn"
      },
      "execution_count": 504,
      "outputs": []
    },
    {
      "cell_type": "code",
      "source": [
        "from sklearn.model_selection import GridSearchCV\n",
        "from sklearn.neighbors import NearestNeighbors\n",
        "\n",
        "param_grid = {'n_neighbors': [3, 5, 7, 9], 'metric': ['cosine', 'euclidean', 'manhattan']}\n",
        "\n",
        "grid_search = GridSearchCV(NearestNeighbors(), param_grid, scoring='accuracy', cv=5)\n",
        "grid_search.fit(tfidf_matrix)\n",
        "\n",
        "print(\"Best parameters:\", grid_search.best_params_)\n",
        "\n",
        "best_knn_model = grid_search.best_estimator_\n",
        "print(\"\\nBest KNN model:\", best_knn_model)"
      ],
      "metadata": {
        "colab": {
          "base_uri": "https://localhost:8080/"
        },
        "id": "j6jLpEhZZf0U",
        "outputId": "9b8d92f9-5976-4227-b50d-867361105770"
      },
      "execution_count": 505,
      "outputs": [
        {
          "output_type": "stream",
          "name": "stderr",
          "text": [
            "/usr/local/lib/python3.10/dist-packages/sklearn/model_selection/_validation.py:778: UserWarning: Scoring failed. The score on this train-test partition for these parameters will be set to nan. Details: \n",
            "Traceback (most recent call last):\n",
            "  File \"/usr/local/lib/python3.10/dist-packages/sklearn/model_selection/_validation.py\", line 765, in _score\n",
            "    scores = scorer(estimator, X_test)\n",
            "TypeError: _BaseScorer.__call__() missing 1 required positional argument: 'y_true'\n",
            "\n",
            "  warnings.warn(\n"
          ]
        },
        {
          "output_type": "stream",
          "name": "stdout",
          "text": [
            "Best parameters: {'metric': 'cosine', 'n_neighbors': 3}\n",
            "\n",
            "Best KNN model: NearestNeighbors(metric='cosine', n_neighbors=3)\n"
          ]
        },
        {
          "output_type": "stream",
          "name": "stderr",
          "text": [
            "/usr/local/lib/python3.10/dist-packages/sklearn/model_selection/_search.py:952: UserWarning: One or more of the test scores are non-finite: [nan nan nan nan nan nan nan nan nan nan nan nan]\n",
            "  warnings.warn(\n"
          ]
        }
      ]
    },
    {
      "cell_type": "code",
      "source": [
        "from sklearn.neighbors import NearestNeighbors\n",
        "from sklearn.neighbors import NearestNeighbors\n",
        "from sklearn.metrics.pairwise import cosine_similarity\n",
        "\n",
        "cbf_similarities = None\n",
        "top_20_cbf_indices = None\n",
        "knn_indices = None\n",
        "\n",
        "def get_recommended_jobs(user_skills, top_n=15, knn_model=best_knn_model):\n",
        "    global cbf_similarities, top_20_cbf_indices, knn_indices\n",
        "\n",
        "    user_tfidf = tfidf.transform([' '.join(user_skills)])\n",
        "\n",
        "    cbf_similarities = cosine_similarity(user_tfidf, tfidf.transform(df['skills'])).flatten()\n",
        "\n",
        "    top_20_cbf_indices = cbf_similarities.argsort()[:-20 - 1:-1]\n",
        "    knn_model.fit(tfidf_matrix[top_20_cbf_indices])\n",
        "\n",
        "    _, knn_indices = knn_model.kneighbors(user_tfidf)\n",
        "\n",
        "    top_job_indices = top_20_cbf_indices[knn_indices.flatten()]\n",
        "\n",
        "    unique_job_indices = []\n",
        "    seen_positions = set()\n",
        "    for index in top_job_indices:\n",
        "        position = df.iloc[index]['job_title_short']\n",
        "        if position not in seen_positions:\n",
        "            unique_job_indices.append(index)\n",
        "            seen_positions.add(position)\n",
        "            if len(unique_job_indices) == top_n:\n",
        "                break\n",
        "\n",
        "    recommended_jobs = df.iloc[unique_job_indices]['job_title_short'].tolist()\n",
        "\n",
        "    if len(recommended_jobs) < top_n:\n",
        "        recommended_skills = set(' '.join(df.iloc[unique_job_indices]['skills']).split())\n",
        "\n",
        "        alternative_jobs_mask = df['skills'].apply(lambda x: any(skill in x for skill in recommended_skills))\n",
        "        alternative_jobs = df[alternative_jobs_mask]['job_title_short'].unique().tolist()\n",
        "\n",
        "        if len(alternative_jobs) >= top_n - len(recommended_jobs):\n",
        "            recommended_jobs += alternative_jobs[:top_n - len(recommended_jobs)]\n",
        "        else:\n",
        "            recommended_jobs += alternative_jobs\n",
        "\n",
        "    recommended_jobs = list(dict.fromkeys(recommended_jobs))\n",
        "    return recommended_jobs[:top_n]"
      ],
      "metadata": {
        "id": "AN2-U593xNzV"
      },
      "execution_count": 506,
      "outputs": []
    },
    {
      "cell_type": "code",
      "source": [
        "user_skills = ['python', 'mysql']\n",
        "recommended_jobs = get_recommended_jobs(user_skills, top_n=15)\n",
        "print(recommended_jobs)"
      ],
      "metadata": {
        "colab": {
          "base_uri": "https://localhost:8080/"
        },
        "id": "i3veKv0LPI0J",
        "outputId": "db556981-09ba-4f7d-c451-c66696797f90"
      },
      "execution_count": 507,
      "outputs": [
        {
          "output_type": "stream",
          "name": "stdout",
          "text": [
            "['Data Analyst', 'Cloud Engineer', 'Data Engineer', 'Senior Data Engineer', 'Data Scientist', 'Machine Learning Engineer', 'Senior Data Analyst', 'Senior Data Scientist', 'Business Analyst', 'Software Engineer']\n"
          ]
        }
      ]
    },
    {
      "cell_type": "code",
      "source": [
        "relevant_jobs = {\n",
        "    'user1': ['Data Analyst', 'Data Scientist', 'Machine Learning Engineer'],\n",
        "    'user2': ['Data Engineer', 'Database Administrator'],\n",
        "    'user3': ['Backend Developer', 'Software Engineer'],\n",
        "    'user4': ['Data Engineer', 'Backend Engineer', 'Full-Stack Engineer'],\n",
        "}\n",
        "\n",
        "def evaluate_model_hit_rate(model, users, relevant_jobs, k=10):\n",
        "    hits = 0\n",
        "    for user in users:\n",
        "        recommended_jobs = model(user, top_n=k)\n",
        "        if any(job in relevant_jobs.get(user, []) for job in recommended_jobs):\n",
        "            hits += 1\n",
        "    return hits / len(users)\n",
        "\n",
        "k = 15\n",
        "hit_rate = evaluate_model_hit_rate(get_recommended_jobs, relevant_jobs.keys(), relevant_jobs, k=k)\n",
        "print(f\"Hit Rate@{k}: {hit_rate:.2f}\")"
      ],
      "metadata": {
        "colab": {
          "base_uri": "https://localhost:8080/"
        },
        "id": "6orN0pVwGbUN",
        "outputId": "bc63c5cb-5df9-488d-849e-04baefbe329d"
      },
      "execution_count": 508,
      "outputs": [
        {
          "output_type": "stream",
          "name": "stdout",
          "text": [
            "Hit Rate@15: 1.00\n"
          ]
        }
      ]
    },
    {
      "cell_type": "code",
      "source": [
        "import matplotlib.pyplot as plt\n",
        "\n",
        "k_values = [5, 10, 15, 20]\n",
        "hit_rates = [evaluate_model_hit_rate(get_recommended_jobs, relevant_jobs.keys(), relevant_jobs, k=k) for k in k_values]\n",
        "\n",
        "plt.figure(figsize=(10, 6))\n",
        "plt.bar(k_values, hit_rates, color='skyblue')\n",
        "plt.xlabel('k (Number of Top Recommendations)', fontsize=12)\n",
        "plt.ylabel('Hit Rate', fontsize=12)\n",
        "plt.title('Hit Rate@k for Job Recommendations', fontsize=14)\n",
        "plt.xticks(k_values)\n",
        "plt.ylim([0, 1])\n",
        "plt.grid(axis='y', linestyle='--')\n",
        "for i, v in enumerate(hit_rates):\n",
        "    plt.text(k_values[i], v + 0.01, f'{v:.2f}', ha='center')\n",
        "plt.show()"
      ],
      "metadata": {
        "colab": {
          "base_uri": "https://localhost:8080/",
          "height": 569
        },
        "id": "mSJmt0Z1S5sb",
        "outputId": "f1feea74-3306-48f7-9151-b6d3b43e75a7"
      },
      "execution_count": 509,
      "outputs": [
        {
          "output_type": "display_data",
          "data": {
            "text/plain": [
              "<Figure size 1000x600 with 1 Axes>"
            ],
            "image/png": "[encoded data removed]"
          },
          "metadata": {}
        }
      ]
    },
    {
      "cell_type": "code",
      "source": [
        "from sklearn.metrics import average_precision_score\n",
        "\n",
        "def evaluate_model_map(model, users, relevant_jobs, k=15):\n",
        "    average_precisions = []\n",
        "    for user in users:\n",
        "        recommended_jobs = model(user, top_n=k)\n",
        "        recommended_indices = [df[df['job_title_short'] == job].index[0] for job in recommended_jobs]\n",
        "\n",
        "        y_true = [1 if df.iloc[i]['job_title_short'] in relevant_jobs.get(user, []) else 0 for i in recommended_indices]\n",
        "\n",
        "        cbf_scores = cbf_similarities[recommended_indices]\n",
        "\n",
        "        if sum(y_true) > 0:  # Hanya hitung jika ada relevan items\n",
        "            average_precisions.append(average_precision_score(y_true, cbf_scores))\n",
        "\n",
        "    if average_precisions:  # Hindari pembagian dengan nol\n",
        "        return sum(average_precisions) / len(average_precisions)\n",
        "    else:\n",
        "        return 0\n",
        "\n",
        "k = 15\n",
        "map_scores = evaluate_model_map(get_recommended_jobs, relevant_jobs.keys(), relevant_jobs, k=k)\n",
        "print(f\"Mean Average Precision@{k}: {map_scores:.2f}\")"
      ],
      "metadata": {
        "id": "OK0Q6FYwkVLd",
        "colab": {
          "base_uri": "https://localhost:8080/"
        },
        "outputId": "6fc40094-f374-4183-ffce-0f4cffb94135"
      },
      "execution_count": 510,
      "outputs": [
        {
          "output_type": "stream",
          "name": "stdout",
          "text": [
            "Mean Average Precision@15: 0.50\n"
          ]
        }
      ]
    },
    {
      "cell_type": "code",
      "source": [
        "plt.bar(relevant_jobs.keys(), map_scores)\n",
        "plt.xlabel('Users')\n",
        "plt.ylabel('Mean Average Precision')\n",
        "plt.title('Mean Average Precision per User')\n",
        "plt.ylim(0, 1)\n",
        "plt.show()"
      ],
      "metadata": {
        "colab": {
          "base_uri": "https://localhost:8080/",
          "height": 472
        },
        "id": "lS5Vvdo144h7",
        "outputId": "a8d59bd9-f2c4-4cd2-c1cb-182dcff5e2da"
      },
      "execution_count": 511,
      "outputs": [
        {
          "output_type": "display_data",
          "data": {
            "text/plain": [
              "<Figure size 640x480 with 1 Axes>"
            ],
            "image/png": "[encoded data removed]"
          },
          "metadata": {}
        }
      ]
    }
  ]
}